{
  "nbformat": 4,
  "nbformat_minor": 0,
  "metadata": {
    "colab": {
      "provenance": [],
      "gpuType": "T4"
    },
    "kernelspec": {
      "name": "python3",
      "display_name": "Python 3"
    },
    "language_info": {
      "name": "python"
    },
    "accelerator": "GPU"
  },
  "cells": [
    {
      "cell_type": "code",
      "execution_count": null,
      "metadata": {
        "id": "INf5U5dSX-By"
      },
      "outputs": [],
      "source": []
    },
    {
      "cell_type": "code",
      "source": [],
      "metadata": {
        "id": "fn2ScVeYX-0J"
      },
      "execution_count": null,
      "outputs": []
    },
    {
      "cell_type": "code",
      "source": [
        "import pandas as pd\n",
        "import numpy as np\n",
        "import random\n",
        "from datetime import datetime, timedelta"
      ],
      "metadata": {
        "id": "P-XT8jHlX-52"
      },
      "execution_count": 1,
      "outputs": []
    },
    {
      "cell_type": "code",
      "source": [
        "# Settings\n",
        "num_rows = 5368709  # Rows to generate (~1 GB dataset)\n",
        "sampling_rate_hz = 10  # Samples per second"
      ],
      "metadata": {
        "id": "7VNMn94hYC2C"
      },
      "execution_count": 2,
      "outputs": []
    },
    {
      "cell_type": "code",
      "source": [
        "# Generate timestamps\n",
        "start_time = datetime.now()\n",
        "timestamps = [start_time + timedelta(seconds=i/sampling_rate_hz) for i in range(num_rows)]"
      ],
      "metadata": {
        "id": "NPPUGgHuYSqh"
      },
      "execution_count": 3,
      "outputs": []
    },
    {
      "cell_type": "code",
      "source": [
        "# Generate synthetic data\n",
        "np.random.seed(42)\n",
        "cpu_temperatures = np.random.normal(loc=50, scale=5, size=num_rows)  # Normal CPU temp\n",
        "cpu_usages = np.random.normal(loc=30, scale=10, size=num_rows)  # Normal CPU usage\n",
        "memory_usages = np.random.normal(loc=40, scale=8, size=num_rows)  # Normal memory usage"
      ],
      "metadata": {
        "id": "pm0VElkEYVrg"
      },
      "execution_count": 4,
      "outputs": []
    },
    {
      "cell_type": "code",
      "source": [
        "# Introduce anomalies\n",
        "for i in range(num_rows):\n",
        "    if random.random() < 0.1:  # 10% chance of anomaly\n",
        "        cpu_usages[i] = random.uniform(90, 100)  # High CPU usage\n",
        "    if random.random() < 0.1:\n",
        "        cpu_temperatures[i] = random.uniform(90, 105)  # High temperature\n",
        "    if random.random() < 0.1:\n",
        "        memory_usages[i] = random.uniform(95, 100)  # High memory usage\n"
      ],
      "metadata": {
        "id": "4e0aNC0sYa2v"
      },
      "execution_count": 5,
      "outputs": []
    },
    {
      "cell_type": "code",
      "source": [
        "# Create DataFrame\n",
        "data = {\n",
        "    'timestamp': timestamps,\n",
        "    'cpu_temperature': cpu_temperatures,\n",
        "    'cpu_usage': cpu_usages,\n",
        "    'memory_usage': memory_usages,\n",
        "}\n",
        "df = pd.DataFrame(data)\n"
      ],
      "metadata": {
        "id": "KhFOJnl_Yfbw"
      },
      "execution_count": 6,
      "outputs": []
    },
    {
      "cell_type": "code",
      "source": [
        "# Save Data to CSV\n",
        "csv_filename = 'synthetic_hardware_data_1GB.csv'\n",
        "df.to_csv(csv_filename, index=False)\n",
        "\n",
        "print(f\"Dataset with {num_rows} rows saved to {csv_filename}.\")"
      ],
      "metadata": {
        "colab": {
          "base_uri": "https://localhost:8080/"
        },
        "id": "sVDD958fYkhv",
        "outputId": "4d691228-440b-4c5c-c084-b23839de82b6"
      },
      "execution_count": 7,
      "outputs": [
        {
          "output_type": "stream",
          "name": "stdout",
          "text": [
            "Dataset with 5368709 rows saved to synthetic_hardware_data_1GB.csv.\n"
          ]
        }
      ]
    },
    {
      "cell_type": "code",
      "source": [
        "# Anomaly Detection on Large Dataset"
      ],
      "metadata": {
        "id": "r9Bj2j4TYo5v"
      },
      "execution_count": 8,
      "outputs": []
    },
    {
      "cell_type": "code",
      "source": [
        "# Anomaly Detection using z-score in chunks\n",
        "from scipy.stats import zscore\n",
        "\n",
        "chunk_size = 100000  # Process 100,000 rows at a time\n",
        "anomalies = []\n",
        "\n",
        "for chunk in pd.read_csv(csv_filename, chunksize=chunk_size):\n",
        "    chunk['cpu_usage_zscore'] = zscore(chunk['cpu_usage'])\n",
        "    chunk['anomaly_cpu_usage'] = chunk['cpu_usage_zscore'].apply(lambda x: 1 if abs(x) > 3 else 0)\n",
        "    anomalies.append(chunk[chunk['anomaly_cpu_usage'] == 1])\n",
        "\n",
        "# Combine anomalies\n",
        "anomalies = pd.concat(anomalies)\n",
        "print(\"Detected Anomalies:\")\n",
        "print(anomalies[['timestamp', 'cpu_usage', 'cpu_usage_zscore']])\n",
        "\n",
        "# Save anomalies to a file\n",
        "anomalies.to_csv('anomalies.csv', index=False)\n",
        "print(\"Anomalies saved to 'anomalies.csv'.\")"
      ],
      "metadata": {
        "colab": {
          "base_uri": "https://localhost:8080/"
        },
        "id": "55c-_WAXYtXx",
        "outputId": "a9ed7144-260c-46cd-e9df-768d10f81dac"
      },
      "execution_count": 9,
      "outputs": [
        {
          "output_type": "stream",
          "name": "stdout",
          "text": [
            "Detected Anomalies:\n",
            "Empty DataFrame\n",
            "Columns: [timestamp, cpu_usage, cpu_usage_zscore]\n",
            "Index: []\n",
            "Anomalies saved to 'anomalies.csv'.\n"
          ]
        }
      ]
    },
    {
      "cell_type": "code",
      "source": [
        "import os\n",
        "\n",
        "# Check file size and load basic metadata\n",
        "file_path = '/content/synthetic_hardware_data_1GB.csv'\n",
        "file_size_gb = os.path.getsize(file_path) / (1024 ** 3)  # Convert size to GB\n",
        "\n",
        "file_size_gb\n"
      ],
      "metadata": {
        "id": "Tf3ASTcOY4tw",
        "colab": {
          "base_uri": "https://localhost:8080/"
        },
        "outputId": "32de37df-9710-47ab-92f0-a6f7652466d9"
      },
      "execution_count": 11,
      "outputs": [
        {
          "output_type": "execute_result",
          "data": {
            "text/plain": [
              "0.4090797808021307"
            ]
          },
          "metadata": {},
          "execution_count": 11
        }
      ]
    },
    {
      "cell_type": "code",
      "source": [
        "# Required libraries\n",
        "import pandas as pd\n",
        "import numpy as np\n",
        "import random\n",
        "from datetime import datetime, timedelta\n",
        "\n",
        "# Settings for larger dataset\n",
        "num_rows = 13000000  # Approximately 13 million rows\n",
        "sampling_rate_hz = 10  # Samples per second\n",
        "\n",
        "# Generate timestamps\n",
        "start_time = datetime.now()\n",
        "timestamps = [start_time + timedelta(seconds=i/sampling_rate_hz) for i in range(num_rows)]\n",
        "\n",
        "# Generate synthetic data\n",
        "np.random.seed(42)\n",
        "cpu_temperatures = np.random.normal(loc=50, scale=5, size=num_rows)\n",
        "cpu_usages = np.random.normal(loc=30, scale=10, size=num_rows)\n",
        "memory_usages = np.random.normal(loc=40, scale=8, size=num_rows)\n",
        "disk_usages = np.random.normal(loc=60, scale=10, size=num_rows)\n",
        "network_activity = np.random.normal(loc=100, scale=20, size=num_rows)\n",
        "\n",
        "# Introduce anomalies\n",
        "for i in range(num_rows):\n",
        "    if random.random() < 0.1:  # 10% chance of anomaly\n",
        "        cpu_usages[i] = random.uniform(90, 100)\n",
        "    if random.random() < 0.1:\n",
        "        cpu_temperatures[i] = random.uniform(90, 105)\n",
        "    if random.random() < 0.1:\n",
        "        memory_usages[i] = random.uniform(95, 100)\n",
        "\n",
        "# Create DataFrame\n",
        "data = {\n",
        "    'timestamp': timestamps,\n",
        "    'cpu_temperature': cpu_temperatures,\n",
        "    'cpu_usage': cpu_usages,\n",
        "    'memory_usage': memory_usages,\n",
        "    'disk_usage': disk_usages,\n",
        "    'network_activity': network_activity,\n",
        "}\n",
        "df_large = pd.DataFrame(data)\n",
        "\n",
        "# Save to CSV\n",
        "csv_filename = '/content/synthetic_hardware_data_1GB.csv'\n",
        "df_large.to_csv(csv_filename, index=False)\n",
        "\n",
        "print(f\"Dataset with {num_rows} rows saved to {csv_filename}.\")\n"
      ],
      "metadata": {
        "colab": {
          "base_uri": "https://localhost:8080/"
        },
        "id": "Qgj19xvEjhoW",
        "outputId": "8fab3d59-5bb5-48b7-c1dc-75d4ab35557c"
      },
      "execution_count": 13,
      "outputs": [
        {
          "output_type": "stream",
          "name": "stdout",
          "text": [
            "Dataset with 13000000 rows saved to /content/synthetic_hardware_data_1GB.csv.\n"
          ]
        }
      ]
    },
    {
      "cell_type": "code",
      "source": [
        "import os\n",
        "\n",
        "# File path\n",
        "file_path = '/content/synthetic_hardware_data_1GB.csv'\n",
        "\n",
        "# Get file size in GB\n",
        "file_size_gb = os.path.getsize(file_path) / (1024 ** 3)\n",
        "print(f\"File size: {file_size_gb:.2f} GB\")\n"
      ],
      "metadata": {
        "colab": {
          "base_uri": "https://localhost:8080/"
        },
        "id": "Q2XHoxJrkG-X",
        "outputId": "dc1bcd0c-449f-4acc-bb30-fba757846423"
      },
      "execution_count": 14,
      "outputs": [
        {
          "output_type": "stream",
          "name": "stdout",
          "text": [
            "File size: 1.43 GB\n"
          ]
        }
      ]
    },
    {
      "cell_type": "markdown",
      "source": [
        "# Anomaly Detection and Visualization (Z-Score Method)"
      ],
      "metadata": {
        "id": "bTqfbx6NydfH"
      }
    },
    {
      "cell_type": "code",
      "source": [
        "import pandas as pd\n",
        "\n",
        "# Load the dataset\n",
        "file_path = '/content/synthetic_hardware_data_1GB.csv'\n",
        "data = pd.read_csv(file_path)\n",
        "\n",
        "# Display the first few rows\n",
        "print(data.head())\n"
      ],
      "metadata": {
        "colab": {
          "base_uri": "https://localhost:8080/"
        },
        "id": "8JGY8HmsuQJG",
        "outputId": "711da4bf-3713-4138-a42a-54bfb28ac0b7"
      },
      "execution_count": 19,
      "outputs": [
        {
          "output_type": "stream",
          "name": "stdout",
          "text": [
            "                    timestamp  cpu_temperature  cpu_usage  memory_usage  \\\n",
            "0  2024-11-30 05:35:48.686526        52.483571  21.736475     27.621207   \n",
            "1  2024-11-30 05:35:48.786526        49.308678  91.908725     34.334427   \n",
            "2  2024-11-30 05:35:48.886526        53.238443  33.615895     33.011231   \n",
            "3  2024-11-30 05:35:48.986526        57.615149  26.824692     37.669579   \n",
            "4  2024-11-30 05:35:49.086526        48.829233   9.855740     45.687827   \n",
            "\n",
            "   disk_usage  network_activity  \n",
            "0   45.011881         65.055121  \n",
            "1   74.502977         77.649825  \n",
            "2   48.089639        135.162247  \n",
            "3   61.957754        129.130781  \n",
            "4   46.238956         78.785481  \n"
          ]
        }
      ]
    },
    {
      "cell_type": "markdown",
      "source": [
        "# Apply Z-Score for Anomaly Detection"
      ],
      "metadata": {
        "id": "1zTZkws6yXN_"
      }
    },
    {
      "cell_type": "code",
      "source": [
        "from scipy.stats import zscore\n",
        "\n",
        "# Choose columns to analyze\n",
        "columns_to_check = ['cpu_temperature', 'cpu_usage', 'memory_usage']\n",
        "\n",
        "# Compute Z-scores\n",
        "z_scores = data[columns_to_check].apply(zscore)\n",
        "\n",
        "# Set a threshold for anomalies (e.g., Z > 3 or Z < -3)\n",
        "anomalies = (z_scores.abs() > 3)\n",
        "\n",
        "# Mark anomalies in the dataset\n",
        "data['is_anomaly'] = anomalies.any(axis=1)\n",
        "print(data['is_anomaly'].value_counts())\n"
      ],
      "metadata": {
        "colab": {
          "base_uri": "https://localhost:8080/"
        },
        "id": "V7_7qf2Muo8W",
        "outputId": "d4a2c9c1-f4c9-4d35-8eec-e6a63778ab1a"
      },
      "execution_count": 20,
      "outputs": [
        {
          "output_type": "stream",
          "name": "stdout",
          "text": [
            "is_anomaly\n",
            "False    12565715\n",
            "True       434285\n",
            "Name: count, dtype: int64\n"
          ]
        }
      ]
    },
    {
      "cell_type": "markdown",
      "source": [
        "# Visualize Anomalies"
      ],
      "metadata": {
        "id": "fu_d1BTwyKtx"
      }
    },
    {
      "cell_type": "code",
      "source": [
        "import matplotlib.pyplot as plt\n",
        "\n",
        "# Plot CPU temperature with anomalies marked\n",
        "plt.figure(figsize=(10, 6))\n",
        "plt.plot(data['cpu_temperature'], label='CPU Temperature')\n",
        "plt.scatter(data.index[data['is_anomaly']], data['cpu_temperature'][data['is_anomaly']],\n",
        "            color='red', label='Anomalies')\n",
        "plt.xlabel('Sample Index')\n",
        "plt.ylabel('CPU Temperature')\n",
        "plt.title('CPU Temperature Anomalies')\n",
        "plt.legend()\n",
        "plt.show()\n"
      ],
      "metadata": {
        "colab": {
          "base_uri": "https://localhost:8080/",
          "height": 564
        },
        "id": "GoH8hi45uyq4",
        "outputId": "720066b0-ff03-4bc9-aa65-6303a5179215"
      },
      "execution_count": 24,
      "outputs": [
        {
          "output_type": "display_data",
          "data": {
            "text/plain": [
              "<Figure size 1000x600 with 1 Axes>"
            ],
            "image/png": "[encoded data removed]"
          },
          "metadata": {}
        }
      ]
    },
    {
      "cell_type": "code",
      "source": [
        "plt.savefig('cpu_temperature_anomalies.png')\n"
      ],
      "metadata": {
        "colab": {
          "base_uri": "https://localhost:8080/",
          "height": 34
        },
        "id": "We12CgpRu5VH",
        "outputId": "7e2121c4-355a-4567-fbd4-ca82ef80da39"
      },
      "execution_count": 22,
      "outputs": [
        {
          "output_type": "display_data",
          "data": {
            "text/plain": [
              "<Figure size 640x480 with 0 Axes>"
            ]
          },
          "metadata": {}
        }
      ]
    },
    {
      "cell_type": "code",
      "source": [],
      "metadata": {
        "id": "rDNdNWm4v8RX"
      },
      "execution_count": null,
      "outputs": []
    }
  ]
}